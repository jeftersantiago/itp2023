{
  "nbformat": 4,
  "nbformat_minor": 0,
  "metadata": {
    "colab": {
      "provenance": [],
      "authorship_tag": "ABX9TyMBBW4NT9v0yiVqZxIuY53h",
      "include_colab_link": true
    },
    "kernelspec": {
      "name": "python3",
      "display_name": "Python 3"
    },
    "language_info": {
      "name": "python"
    }
  },
  "cells": [
    {
      "cell_type": "markdown",
      "metadata": {
        "id": "view-in-github",
        "colab_type": "text"
      },
      "source": [
        "<a href=\"https://colab.research.google.com/github/jeftersantiago/itp2023/blob/main/05%20-%20Distribuicao%20Geometrica.ipynb\" target=\"_parent\"><img src=\"https://colab.research.google.com/assets/colab-badge.svg\" alt=\"Open In Colab\"/></a>"
      ]
    },
    {
      "cell_type": "markdown",
      "source": [
        "Dada uma variável aleatória $X$, esta segue uma distribuição geométrica se: \n",
        "$$ P(X = k) = p(1-p)^{k-1}, k = 0, 1, …$$"
      ],
      "metadata": {
        "id": "-G2jULUOXfUu"
      }
    },
    {
      "cell_type": "markdown",
      "source": [
        "A esperança é dada por $E[X] = \\frac{1}{p}$."
      ],
      "metadata": {
        "id": "q1hxLtiWYtv8"
      }
    },
    {
      "cell_type": "code",
      "source": [
        "import numpy as np\n",
        "import matplotlib.pyplot as plt\n",
        "from random import seed"
      ],
      "metadata": {
        "id": "R_qWLzGnXvXQ"
      },
      "execution_count": 2,
      "outputs": []
    },
    {
      "cell_type": "code",
      "source": [
        "p = 0.2\n",
        "n = 10000\n",
        "X = np.random.geometric(p, size=n)\n",
        "k = np.arange(0, np.max(X))"
      ],
      "metadata": {
        "id": "nbYgLZSBXyE7"
      },
      "execution_count": 4,
      "outputs": []
    },
    {
      "cell_type": "code",
      "source": [
        "plt.figure(figsize=(14, 8))\n",
        "count, bins, ignored = plt.hist(X, bins=k, density=True, \n",
        "                                color=\"#f20505\", alpha=0.7,\n",
        "                                rwidth=0.9)\n",
        "\n",
        "plt.xlabel(\"k\", fontsize=20)\n",
        "plt.ylabel(\"P(k)\", fontsize=20)\n",
        "plt.show()"
      ],
      "metadata": {
        "colab": {
          "base_uri": "https://localhost:8080/",
          "height": 506
        },
        "id": "k35NFejQYC2c",
        "outputId": "71751456-45c5-4e47-9e8e-e1d805370764"
      },
      "execution_count": 12,
      "outputs": [
        {
          "output_type": "display_data",
          "data": {
            "text/plain": [
              "<Figure size 1008x576 with 1 Axes>"
            ],
            "image/png": "[encoded data removed]"
          },
          "metadata": {
            "needs_background": "light"
          }
        }
      ]
    },
    {
      "cell_type": "code",
      "source": [
        "print(\"E[X] = 1/p = \", 1/p)\n",
        "print(\"E[X] simulado = \", np.sum(X)/len(X))"
      ],
      "metadata": {
        "colab": {
          "base_uri": "https://localhost:8080/"
        },
        "id": "uj1sTTIaYzng",
        "outputId": "28d6e463-0570-4b59-b98a-9b2292868a4b"
      },
      "execution_count": 13,
      "outputs": [
        {
          "output_type": "stream",
          "name": "stdout",
          "text": [
            "E[X] = 1/p =  5.0\n",
            "E[X] simulado =  4.9722\n"
          ]
        }
      ]
    }
  ]
}