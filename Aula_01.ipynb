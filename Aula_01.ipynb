{
  "cells": [
    {
      "cell_type": "markdown",
      "metadata": {
        "id": "view-in-github",
        "colab_type": "text"
      },
      "source": [
        "<a href=\"https://colab.research.google.com/github/jeftersantiago/itp2023/blob/main/Aula_01.ipynb\" target=\"_parent\"><img src=\"https://colab.research.google.com/assets/colab-badge.svg\" alt=\"Open In Colab\"/></a>"
      ]
    },
    {
      "cell_type": "code",
      "execution_count": null,
      "metadata": {
        "id": "0vew3VVpaB6e"
      },
      "outputs": [],
      "source": [
        "import numpy as np\n",
        "import matplotlib.pyplot as plt\n",
        "import random"
      ]
    },
    {
      "cell_type": "markdown",
      "source": [
        "## Simulando lançamento de moedas"
      ],
      "metadata": {
        "id": "7J9Ulv5WfJ3W"
      }
    },
    {
      "cell_type": "code",
      "execution_count": null,
      "metadata": {
        "colab": {
          "base_uri": "https://localhost:8080/"
        },
        "id": "wmMFTPtJaQve",
        "outputId": "2c8a156c-f197-45e0-efdc-80dc5d9616ac"
      },
      "outputs": [
        {
          "output_type": "stream",
          "name": "stdout",
          "text": [
            "Saída =  [0, 1, 1, 1, 1, 0, 1, 0, 1, 0]\n",
            "Número de caras =  6\n"
          ]
        }
      ],
      "source": [
        "p = 0.6 \n",
        "nExps = 10\n",
        "nRes = []\n",
        "nHead = 0\n",
        "for i in range(0, nExps):\n",
        "  if(np.random.uniform() < p):\n",
        "    nHead += 1\n",
        "    nRes.append(1)\n",
        "  else:\n",
        "    nRes.append(0)\n",
        "print(\"Saída = \", nRes)\n",
        "print(\"Número de caras = \", nHead)"
      ]
    },
    {
      "cell_type": "code",
      "source": [
        "p = 0.6\n",
        "vp = []\n",
        "nResults = []\n",
        "nSimulations = []\n",
        "nExps = 1000\n",
        "for i in range(1, nExps, 10):\n",
        "  nHead = 0 \n",
        "  for i in range(1, i):\n",
        "    if(np.random.uniform() < p):\n",
        "      nHead += 1\n",
        "  vp.append(nHead/i)\n",
        "  nSimulations.append(i)"
      ],
      "metadata": {
        "id": "7DUp8NflcmyG"
      },
      "execution_count": null,
      "outputs": []
    },
    {
      "cell_type": "code",
      "source": [
        "plt.figure(figsize=(8,6))\n",
        "plt.plot(nSimulations, vp, linestyle='-', color=\"blue\", linewidth=2,label = 'Valor simulado')\n",
        "plt.axhline(y=p, color='r', linestyle='--', label = 'Valor teorico')\n",
        "plt.ylabel(\"Fracao de caras\", fontsize=20)\n",
        "plt.xlabel(\"Numero de experimentos\", fontsize=20)\n",
        "plt.xlim([0.0, nExps])\n",
        "plt.ylim([0.0, 1.0])\n",
        "plt.legend()\n",
        "plt.show() "
      ],
      "metadata": {
        "colab": {
          "base_uri": "https://localhost:8080/",
          "height": 401
        },
        "id": "yOTZGhoNcnIO",
        "outputId": "e09ec065-113a-4795-af39-3661529dc65d"
      },
      "execution_count": null,
      "outputs": [
        {
          "output_type": "display_data",
          "data": {
            "text/plain": [
              "<Figure size 576x432 with 1 Axes>"
            ],
            "image/png": "[encoded data removed]"
          },
          "metadata": {
            "needs_background": "light"
          }
        }
      ]
    },
    {
      "cell_type": "markdown",
      "source": [
        "## Simulação urna com bolas pretas e brancas\n"
      ],
      "metadata": {
        "id": "U-JgwowvfQYN"
      }
    },
    {
      "cell_type": "markdown",
      "source": [
        "Temos uma urna com 6 bolas brancas e 4 pretas, então a chance de tirarmos uma bola preta será igual à: \n",
        "$$ P(A) = \\frac{|A|}{|\\Omega|} = \\frac{n(A)}{n(\\Omega)} = \\frac{4}{10} = 0.4 $$\n",
        "\n",
        "onde $A$ é o evento \"retirar bola preta\"."
      ],
      "metadata": {
        "id": "bxUbWaEnf8T2"
      }
    },
    {
      "cell_type": "code",
      "source": [
        "# 0 - white\n",
        "# 1 - black\n",
        "urn = [0, 0, 0, 0, 0, 0, 1, 1, 1, 1]\n",
        "N = 1000\n",
        "fa = 0\n",
        "for i in range(0, N):\n",
        "  ball = random.choice(urn)\n",
        "  if(ball == 1):\n",
        "    fa += 1\n",
        "fa = fa/N\n",
        "print(\"Frequency = \", fa)"
      ],
      "metadata": {
        "colab": {
          "base_uri": "https://localhost:8080/"
        },
        "id": "AGEFiB44fdp-",
        "outputId": "d8d58b45-50d7-4705-e832-518eb536dce6"
      },
      "execution_count": null,
      "outputs": [
        {
          "output_type": "stream",
          "name": "stdout",
          "text": [
            "Frequency =  0.401\n"
          ]
        }
      ]
    }
  ],
  "metadata": {
    "colab": {
      "provenance": [],
      "collapsed_sections": [
        "7J9Ulv5WfJ3W"
      ],
      "authorship_tag": "ABX9TyPCBZ6+VlzBaTPKfe21fXrr",
      "include_colab_link": true
    },
    "kernelspec": {
      "display_name": "Python 3",
      "name": "python3"
    },
    "language_info": {
      "name": "python"
    }
  },
  "nbformat": 4,
  "nbformat_minor": 0
}