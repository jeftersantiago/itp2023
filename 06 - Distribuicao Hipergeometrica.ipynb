{
  "nbformat": 4,
  "nbformat_minor": 0,
  "metadata": {
    "colab": {
      "provenance": [],
      "authorship_tag": "ABX9TyPvrgqruJdp6v5vBFNFzyck",
      "include_colab_link": true
    },
    "kernelspec": {
      "name": "python3",
      "display_name": "Python 3"
    },
    "language_info": {
      "name": "python"
    }
  },
  "cells": [
    {
      "cell_type": "markdown",
      "metadata": {
        "id": "view-in-github",
        "colab_type": "text"
      },
      "source": [
        "<a href=\"https://colab.research.google.com/github/jeftersantiago/itp2023/blob/main/06%20-%20Distribuicao%20Hipergeometrica.ipynb\" target=\"_parent\"><img src=\"https://colab.research.google.com/assets/colab-badge.svg\" alt=\"Open In Colab\"/></a>"
      ]
    },
    {
      "cell_type": "markdown",
      "source": [
        "Em um conjunto de $N$ objetos, dos quais $m$ sao do tipo I e $N-m$ do tipo II.\n",
        "Para o sorteio de $r$ objetos $(r<N)$, feito aleatóriamente e sem reposição, definimos:\n",
        "-  $X$:\"numero de objetos do tipo I selecionados\".\n",
        "Então \n",
        "\n",
        "$$ P(X = k) = \\frac{{N_1 \\choose k} {N_2 \\choose r-k}}{N \\choose r}, N = N_1 + N_2 $$"
      ],
      "metadata": {
        "id": "_HRgFQ9rZm_K"
      }
    },
    {
      "cell_type": "code",
      "execution_count": 1,
      "metadata": {
        "id": "zQE_UchcZfs0"
      },
      "outputs": [],
      "source": [
        "import numpy as np\n",
        "import matplotlib.pyplot as plt"
      ]
    },
    {
      "cell_type": "code",
      "source": [
        "N1 = 4\n",
        "N2 = 21\n",
        "r = 5\n",
        "n = 1000\n",
        "X = np.random.hypergeometric(N2, N1, r, 1000)\n",
        "k = np.arange(0, np.max(X))"
      ],
      "metadata": {
        "id": "zd2-H7V7aYWE"
      },
      "execution_count": 2,
      "outputs": []
    },
    {
      "cell_type": "code",
      "source": [
        "plt.figure(figsize=(10, 6))\n",
        "count, bins, ignored = plt.hist(X, bins=k, density=True, color=\"#5ebf78\", alpha=0.7, rwidth=0.9)\n",
        "plt.xlabel(\"k\", fontsize=20)\n",
        "plt.ylabel(\"P(k)\", fontsize=20)\n",
        "plt.show()"
      ],
      "metadata": {
        "colab": {
          "base_uri": "https://localhost:8080/",
          "height": 397
        },
        "id": "XTUqAE4DayS0",
        "outputId": "3b567b09-81a3-41fd-cf47-fa63699346df"
      },
      "execution_count": 5,
      "outputs": [
        {
          "output_type": "display_data",
          "data": {
            "text/plain": [
              "<Figure size 720x432 with 1 Axes>"
            ],
            "image/png": "[encoded data removed]"
          },
          "metadata": {
            "needs_background": "light"
          }
        }
      ]
    },
    {
      "cell_type": "code",
      "source": [
        "print(\"E[X] = \", N2*N1 / (N1+N2))\n",
        "print(\"E[X] simulado = \", np.sum(X)/len(X))"
      ],
      "metadata": {
        "colab": {
          "base_uri": "https://localhost:8080/"
        },
        "id": "B74OEJwKaw0P",
        "outputId": "4205d164-82ac-4ca5-d69a-47958a144190"
      },
      "execution_count": 6,
      "outputs": [
        {
          "output_type": "stream",
          "name": "stdout",
          "text": [
            "E[X] =  3.36\n",
            "E[X] simulado =  4.18\n"
          ]
        }
      ]
    }
  ]
}